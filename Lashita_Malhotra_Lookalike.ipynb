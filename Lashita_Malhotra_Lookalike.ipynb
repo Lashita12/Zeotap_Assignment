{
 "cells": [
  {
   "cell_type": "code",
   "execution_count": 1,
   "id": "f9924755-e02c-43c7-b18f-6ada37ae22e8",
   "metadata": {
    "editable": true,
    "slideshow": {
     "slide_type": ""
    },
    "tags": []
   },
   "outputs": [],
   "source": [
    "import pandas as pd\n",
    "import numpy as np\n",
    "from sklearn.preprocessing import StandardScaler\n",
    "from sklearn.metrics.pairwise import cosine_similarity"
   ]
  },
  {
   "cell_type": "code",
   "execution_count": 2,
   "id": "3c8ed92c-d513-473d-9a33-4a0e0bae7d52",
   "metadata": {},
   "outputs": [],
   "source": [
    "customers_url = 'https://drive.google.com/uc?id=1bu_--mo79VdUG9oin4ybfFGRUSXAe-WE'\n",
    "transactions_url = 'https://drive.google.com/uc?id=1saEqdbBB-vuk2hxoAf4TzDEsykdKlzbF'\n",
    "\n",
    "customers = pd.read_csv(customers_url)\n",
    "transactions = pd.read_csv(transactions_url)"
   ]
  },
  {
   "cell_type": "code",
   "execution_count": 10,
   "id": "e109721b-baec-41a0-b890-70fc9c9d8f67",
   "metadata": {},
   "outputs": [],
   "source": [
    "def build_lookalike_model():\n",
    "    # Aggregating transaction data\n",
    "    customer_profiles = transactions.groupby('CustomerID').agg({'TotalValue': 'sum', 'Quantity': 'sum'}).reset_index()\n",
    "    customer_profiles = customer_profiles.merge(customers, on='CustomerID')\n",
    "\n",
    "    # Encoding categorical features\n",
    "    customer_profiles['RegionEncoded'] = customer_profiles['Region'].astype('category').cat.codes\n",
    "\n",
    "    # Preparing data for similarity calculation\n",
    "    features = ['TotalValue', 'Quantity', 'RegionEncoded']\n",
    "    scaler = StandardScaler()\n",
    "    feature_matrix = scaler.fit_transform(customer_profiles[features])\n",
    "\n",
    "    # Calculating cosine similarity matrix\n",
    "    similarity_matrix = cosine_similarity(feature_matrix)\n",
    "\n",
    "    # Extract lookalikes for each customer\n",
    "    lookalikes = {}\n",
    "    for idx, row in customer_profiles.iterrows():\n",
    "        similar_indices = np.argsort(-similarity_matrix[idx])[:4]  # Top 3 lookalikes + self\n",
    "        similar_customers = [\n",
    "            (customer_profiles.iloc[i]['CustomerID'], similarity_matrix[idx][i])\n",
    "            for i in similar_indices if i != idx\n",
    "        ]\n",
    "        lookalikes[row['CustomerID']] = similar_customers[:3]\n",
    "\n",
    "    # Filter for customers C0001 to C0020\n",
    "    lookalike_df = pd.DataFrame({\n",
    "        'CustomerID': list(lookalikes.keys()),\n",
    "        'Lookalikes': [str(value) for value in lookalikes.values()]\n",
    "    })\n",
    "    lookalike_df = lookalike_df[lookalike_df['CustomerID'].str.startswith('C000') &\n",
    "                                (lookalike_df['CustomerID'] <= 'C0020')]\n",
    "\n",
    "    # Save to CSV\n",
    "    lookalike_df.to_csv(\"Lookalike.csv\", index=False)\n",
    "    print(\"Lookalike.csv generated with top 3 lookalikes for customers C0001-C0020!\")\n",
    "    \n",
    "    return lookalike_df"
   ]
  },
  {
   "cell_type": "code",
   "execution_count": 11,
   "id": "6ce84b65-f294-4635-91a9-b88585d0bfae",
   "metadata": {},
   "outputs": [
    {
     "name": "stdout",
     "output_type": "stream",
     "text": [
      "Lookalike.csv generated with top 3 lookalikes for customers C0001-C0020!\n",
      "  CustomerID                                         Lookalikes\n",
      "0      C0001  [('C0107', np.float64(0.9930023406314495)), ('...\n",
      "1      C0002  [('C0088', np.float64(0.996991768235917)), ('C...\n",
      "2      C0003  [('C0147', np.float64(0.9959158383692094)), ('...\n",
      "3      C0004  [('C0113', np.float64(0.9939371956296096)), ('...\n",
      "4      C0005  [('C0186', np.float64(0.997560932214978)), ('C...\n",
      "5      C0006  [('C0048', np.float64(0.9879227167799908)), ('...\n",
      "6      C0007  [('C0146', np.float64(0.999996089620408)), ('C...\n",
      "7      C0008  [('C0109', np.float64(0.9860003282398785)), ('...\n",
      "8      C0009  [('C0198', np.float64(0.999976844081536)), ('C...\n"
     ]
    }
   ],
   "source": [
    "lookalike_df = build_lookalike_model()\n",
    "print(lookalike_df)\n"
   ]
  },
  {
   "cell_type": "code",
   "execution_count": 12,
   "id": "f3983e53-49af-4b30-86d3-3d8bb4d6b69c",
   "metadata": {},
   "outputs": [
    {
     "name": "stdout",
     "output_type": "stream",
     "text": [
      "\n",
      "### Accessing Lookalike.csv ###\n"
     ]
    },
    {
     "data": {
      "text/html": [
       "<a href='Lookalike.csv' target='_blank'>Lookalike.csv</a><br>"
      ],
      "text/plain": [
       "C:\\Users\\Lenovo\\OneDrive\\Desktop\\Python projects\\Lookalike.csv"
      ]
     },
     "execution_count": 12,
     "metadata": {},
     "output_type": "execute_result"
    }
   ],
   "source": [
    "print(\"\\n### Accessing Lookalike.csv ###\")\n",
    "from IPython.display import FileLink\n",
    "file_link = FileLink(\"Lookalike.csv\")\n",
    "file_link"
   ]
  }
 ],
 "metadata": {
  "kernelspec": {
   "display_name": "Python 3 (ipykernel)",
   "language": "python",
   "name": "python3"
  },
  "language_info": {
   "codemirror_mode": {
    "name": "ipython",
    "version": 3
   },
   "file_extension": ".py",
   "mimetype": "text/x-python",
   "name": "python",
   "nbconvert_exporter": "python",
   "pygments_lexer": "ipython3",
   "version": "3.12.0"
  }
 },
 "nbformat": 4,
 "nbformat_minor": 5
}
